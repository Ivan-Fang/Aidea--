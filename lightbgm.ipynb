{
 "metadata": {
  "language_info": {
   "codemirror_mode": {
    "name": "ipython",
    "version": 3
   },
   "file_extension": ".py",
   "mimetype": "text/x-python",
   "name": "python",
   "nbconvert_exporter": "python",
   "pygments_lexer": "ipython3",
   "version": "3.8.5"
  },
  "orig_nbformat": 4,
  "kernelspec": {
   "name": "python3",
   "display_name": "Python 3.8.5 64-bit ('base': conda)"
  },
  "interpreter": {
   "hash": "d319f5721d3936e503fbd1591a8088dd69adb7ee9ad51610f9012d7ee9bf0079"
  }
 },
 "nbformat": 4,
 "nbformat_minor": 2,
 "cells": [
  {
   "source": [
    "import lightgbm as lgb\n",
    "import pandas as pd"
   ],
   "cell_type": "code",
   "metadata": {},
   "execution_count": 1,
   "outputs": []
  },
  {
   "source": [
    "# 讀取資料集"
   ],
   "cell_type": "markdown",
   "metadata": {}
  },
  {
   "cell_type": "code",
   "execution_count": 2,
   "metadata": {},
   "outputs": [],
   "source": [
    "dataset = pd.read_csv(\"train.csv\")\n",
    "X_train = dataset.drop([\"PerNo\", \"PerStatus\", \"歸屬部門\"], axis=1)\n",
    "y_train = dataset[\"PerStatus\"]\n",
    "\n",
    "X_test = pd.read_csv(\"test.csv\").drop([\"PerNo\", \"PerStatus\", \"歸屬部門\"], axis=1)"
   ]
  },
  {
   "source": [
    "# Fill Missing Data"
   ],
   "cell_type": "markdown",
   "metadata": {}
  },
  {
   "cell_type": "code",
   "execution_count": 3,
   "metadata": {},
   "outputs": [],
   "source": [
    "categorical_feature = [\"工作分類\", \"廠區代碼\", \"工作地點\", \"畢業學校類別\", \"畢業科系類別\"]\n",
    "\n",
    "for cat in categorical_feature:\n",
    "    X_train[cat] = X_train[cat].fillna(X_train[cat].value_counts().index[0])    # most frequent\n",
    "    X_test[cat] = X_test[cat].fillna(X_test[cat].value_counts().index[0])\n",
    "\n",
    "X_train = X_train.fillna(X_train.mean())    # mean\n",
    "X_test = X_test.fillna(X_test.mean())"
   ]
  },
  {
   "source": [
    "# Regularization"
   ],
   "cell_type": "markdown",
   "metadata": {}
  },
  {
   "cell_type": "code",
   "execution_count": 4,
   "metadata": {},
   "outputs": [],
   "source": [
    "from sklearn.preprocessing import StandardScaler\n",
    "\n",
    "X_train_values = X_train.values\n",
    "X_test_values = X_test.values\n",
    "scaler = StandardScaler()\n",
    "\n",
    "X_train_values = scaler.fit_transform(X_train_values)\n",
    "X_test_values = scaler.transform(X_test_values)\n",
    "\n",
    "X_train = pd.DataFrame(data=X_train_values, columns=X_train.columns)\n",
    "X_test = pd.DataFrame(data=X_test_values, columns=X_test.columns)"
   ]
  },
  {
   "source": [
    "# 訓練 LightGBM"
   ],
   "cell_type": "markdown",
   "metadata": {}
  },
  {
   "cell_type": "code",
   "execution_count": 5,
   "metadata": {},
   "outputs": [],
   "source": [
    "weight = []\n",
    "for i in range(len(y_train)):\n",
    "    if y_train[i] == 1:\n",
    "        weight.append(13)\n",
    "    else:\n",
    "        weight.append(1)"
   ]
  },
  {
   "cell_type": "code",
   "execution_count": 6,
   "metadata": {},
   "outputs": [
    {
     "output_type": "stream",
     "name": "stderr",
     "text": [
      "C:\\Users\\Fang\\anaconda3\\lib\\site-packages\\lightgbm\\basic.py:1702: UserWarning: Using categorical_feature in Dataset.\n",
      "  _log_warning('Using categorical_feature in Dataset.')\n",
      "[LightGBM] [Warning] Met negative value in categorical features, will convert it to NaN\n",
      "[LightGBM] [Warning] Met negative value in categorical features, will convert it to NaN\n",
      "[LightGBM] [Warning] Met negative value in categorical features, will convert it to NaN\n",
      "[LightGBM] [Warning] Met negative value in categorical features, will convert it to NaN\n",
      "[LightGBM] [Info] Number of positive: 796, number of negative: 13596\n",
      "[LightGBM] [Warning] Auto-choosing row-wise multi-threading, the overhead of testing was 0.006626 seconds.\n",
      "You can set `force_row_wise=true` to remove the overhead.\n",
      "And if memory is not enough, you can set `force_col_wise=true`.\n",
      "[LightGBM] [Info] Total Bins 460\n",
      "[LightGBM] [Info] Number of data points in the train set: 14392, number of used features: 44\n",
      "[LightGBM] [Info] [binary:BoostFromScore]: pavg=0.432175 -> initscore=-0.272982\n",
      "[LightGBM] [Info] Start training from score -0.272982\n"
     ]
    }
   ],
   "source": [
    "train_data = lgb.Dataset(data=X_train, label=y_train, feature_name=X_train.columns.to_list(), categorical_feature=categorical_feature, weight=weight)\n",
    "param = {\n",
    "    'objective': 'binary',\n",
    "}\n",
    "\n",
    "num_round = 10\n",
    "bst = lgb.train(param, train_data, num_round)"
   ]
  },
  {
   "cell_type": "code",
   "execution_count": 7,
   "metadata": {},
   "outputs": [],
   "source": [
    "y_pred = bst.predict(X_test)"
   ]
  },
  {
   "cell_type": "code",
   "execution_count": 8,
   "metadata": {},
   "outputs": [],
   "source": [
    "for i in range(len(y_pred)):\n",
    "    y_pred[i] = 1 if y_pred[i] >= 0.5 else 0\n",
    "\n",
    "y_pred = y_pred.astype(\"int\")"
   ]
  },
  {
   "cell_type": "code",
   "execution_count": 9,
   "metadata": {},
   "outputs": [
    {
     "output_type": "execute_result",
     "data": {
      "text/plain": [
       "539"
      ]
     },
     "metadata": {},
     "execution_count": 9
    }
   ],
   "source": [
    "y_pred.sum()"
   ]
  },
  {
   "source": [
    "# 儲存預測結果"
   ],
   "cell_type": "markdown",
   "metadata": {}
  },
  {
   "cell_type": "code",
   "execution_count": 10,
   "metadata": {},
   "outputs": [],
   "source": [
    "submission = pd.read_csv(\"submission.csv\").drop([\"PerStatus\"], axis=1)\n",
    "submission.insert(loc=1, column=\"PerStatus\", value=y_pred)\n",
    "submission.to_csv(\"mysubmission.csv\", index=False)"
   ]
  }
 ]
}